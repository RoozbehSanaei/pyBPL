{
 "cells": [
  {
   "cell_type": "code",
   "execution_count": 1,
   "metadata": {},
   "outputs": [],
   "source": [
    "%matplotlib inline\n",
    "import matplotlib.pylab as plt\n",
    "import numpy as np\n",
    "from tqdm import tqdm\n",
    "import imageio\n",
    "import torch\n",
    "import torch.distributions as dist\n",
    "\n",
    "from pybpl.library import Library\n",
    "from pybpl.model import CharacterModel\n",
    "from pybpl.concept import CharacterType, CharacterToken\n",
    "from pybpl.part import StrokeType, StrokeToken\n",
    "from pybpl.relation import *\n",
    "from pybpl import rendering"
   ]
  },
  {
   "cell_type": "code",
   "execution_count": 2,
   "metadata": {},
   "outputs": [],
   "source": [
    "# library and type distribution\n",
    "lib = Library('../lib_data/')\n",
    "model = CharacterModel(lib)"
   ]
  },
  {
   "cell_type": "code",
   "execution_count": 3,
   "metadata": {},
   "outputs": [],
   "source": [
    "# for better image visualization in matplotlib\n",
    "def box_only(obj):\n",
    "    obj.tick_params(\n",
    "        which='both',\n",
    "        bottom=False,\n",
    "        left=False,\n",
    "        labelbottom=False,\n",
    "        labelleft=False\n",
    "    )"
   ]
  },
  {
   "cell_type": "markdown",
   "metadata": {},
   "source": [
    "## first, load the target image"
   ]
  },
  {
   "cell_type": "code",
   "execution_count": 4,
   "metadata": {},
   "outputs": [
    {
     "data": {
      "image/png": "[encoded data removed]",
      "text/plain": [
       "<Figure size 144x144 with 1 Axes>"
      ]
     },
     "metadata": {},
     "output_type": "display_data"
    }
   ],
   "source": [
    "img_target = imageio.imread('./image_H.jpg')\n",
    "img_target = np.asarray(img_target, dtype=np.float32) / 255.\n",
    "plt.figure(figsize=(2,2))\n",
    "plt.imshow(img_target, cmap='Greys')\n",
    "box_only(plt)\n",
    "plt.show()"
   ]
  },
  {
   "cell_type": "markdown",
   "metadata": {},
   "source": [
    "## Now, create an initial \"H\" type and token that we will optimize"
   ]
  },
  {
   "cell_type": "code",
   "execution_count": 5,
   "metadata": {},
   "outputs": [],
   "source": [
    "def initial_type_and_token():\n",
    "    # first stroke has 1 sub-stroke, with id \"0\"\n",
    "    s1 = StrokeType(\n",
    "        nsub=torch.tensor(1), \n",
    "        ids=torch.tensor([0]),\n",
    "        shapes=lib.shape['mu'][0].view(5, 2, 1),\n",
    "        invscales=torch.tensor([0.5])\n",
    "    )\n",
    "    r1 = RelationIndependent(\n",
    "        category='unihist',\n",
    "        gpos=torch.tensor([30., -22.]),\n",
    "        xlim=lib.Spatial.xlim,\n",
    "        ylim=lib.Spatial.ylim,\n",
    "    )\n",
    "    # second stroke has 1 sub-stroke, with id \"9\"\n",
    "    s2 = StrokeType(\n",
    "        nsub=torch.tensor(1), \n",
    "        ids=torch.tensor([9]),\n",
    "        shapes=lib.shape['mu'][9].view(5, 2, 1),\n",
    "        invscales=torch.tensor([0.4])\n",
    "    )\n",
    "    r2 = RelationAttachAlong(\n",
    "        category='mid',\n",
    "        attach_ix=torch.tensor(0),\n",
    "        attach_subix=torch.tensor(0),\n",
    "        eval_spot=torch.tensor(4.5),\n",
    "        ncpt=lib.ncpt\n",
    "    )\n",
    "    # third stroke has 1 sub-stroke, with id \"0\"\n",
    "    s3 = StrokeType(\n",
    "        nsub=torch.tensor(1), \n",
    "        ids=torch.tensor([0]),\n",
    "        shapes=lib.shape['mu'][0].view(5, 2, 1),\n",
    "        invscales=torch.tensor([0.5])\n",
    "    )\n",
    "    r3 = RelationIndependent(\n",
    "        category='unihist',\n",
    "        gpos=torch.tensor([70., -22.]),\n",
    "        xlim=lib.Spatial.xlim,\n",
    "        ylim=lib.Spatial.ylim\n",
    "    )\n",
    "    k = torch.tensor(3)\n",
    "    P = [s1, s2, s3]\n",
    "    R = [r1, r2, r3]\n",
    "    # initialize the type\n",
    "    ctype = CharacterType(k, P, R)\n",
    "    # sample an initial token\n",
    "    ctoken = model.sample_token(ctype)\n",
    "    \n",
    "    return ctype, ctoken"
   ]
  },
  {
   "cell_type": "code",
   "execution_count": 26,
   "metadata": {},
   "outputs": [],
   "source": [
    "ctype, ctoken = initial_type_and_token()\n",
    "# get optimizable parameters\n",
    "params = ctype.parameters() + ctoken.parameters()\n",
    "lbs = ctype.lbs() + ctoken.lbs()\n",
    "ubs = ctype.ubs() + ctoken.ubs()\n",
    "# set requires_grad to True for asll parameters\n",
    "ctype.train()\n",
    "ctoken.train()"
   ]
  },
  {
   "cell_type": "code",
   "execution_count": 27,
   "metadata": {},
   "outputs": [],
   "source": [
    "# set large blur value to make learning easier\n",
    "ctoken.blur_sigma = 5."
   ]
  },
  {
   "cell_type": "code",
   "execution_count": 28,
   "metadata": {},
   "outputs": [
    {
     "data": {
      "image/png": "[encoded data removed]",
      "text/plain": [
       "<Figure size 144x144 with 1 Axes>"
      ]
     },
     "metadata": {},
     "output_type": "display_data"
    }
   ],
   "source": [
    "pimg = model.get_pimg(ctoken)\n",
    "plt.figure(figsize=(2,2))\n",
    "plt.imshow(pimg.detach().numpy(), cmap='Greys')\n",
    "box_only(plt)\n",
    "plt.show()"
   ]
  },
  {
   "cell_type": "markdown",
   "metadata": {},
   "source": [
    "### optimize"
   ]
  },
  {
   "cell_type": "code",
   "execution_count": 29,
   "metadata": {
    "scrolled": true
   },
   "outputs": [
    {
     "name": "stderr",
     "output_type": "stream",
     "text": [
      "100%|██████████| 300/300 [00:56<00:00,  5.32it/s]\n"
     ]
    }
   ],
   "source": [
    "nb_iter = 300\n",
    "interval = 30 # how often we will log pimg status\n",
    "lr = 1e-3\n",
    "img_target = torch.tensor(img_target)\n",
    "\n",
    "score_type_list = []\n",
    "score_token_list = []\n",
    "score_img_list = []\n",
    "imgs = []\n",
    "optimizer = torch.optim.Adam(params, lr=lr)\n",
    "for idx in tqdm(range(nb_iter)):\n",
    "    if idx % interval == 0:\n",
    "        # store pimg at this iteration for later viewing\n",
    "        pimg = model.get_pimg(ctoken)\n",
    "        imgs.append(np.copy(pimg.detach().numpy()))\n",
    "    # compute scores\n",
    "    score_type = model.score_type(ctype)\n",
    "    score_token = model.score_token(ctype, ctoken)\n",
    "    score_img = model.score_image(ctoken, img_target)\n",
    "    score = score_type + score_token + score_img\n",
    "    # append to lists\n",
    "    score_type_list.append(score_type)\n",
    "    score_token_list.append(score_token)\n",
    "    score_img_list.append(score_img)\n",
    "    # first, zero all gradients\n",
    "    optimizer.zero_grad()\n",
    "    # now, perform backward pass\n",
    "    score_neg = -score\n",
    "    score_neg.backward()\n",
    "    # optimization step\n",
    "    optimizer.step()\n",
    "    # clip params at boundaries\n",
    "    with torch.no_grad():\n",
    "        for ip, param in enumerate(params):\n",
    "            lb = lbs[ip]\n",
    "            ub = ubs[ip]\n",
    "            if lb is not None:\n",
    "                torch.max(param, lb, out=param)\n",
    "            if ub is not None:\n",
    "                torch.min(param, ub, out=param)"
   ]
  },
  {
   "cell_type": "markdown",
   "metadata": {},
   "source": [
    "### check loss vs iteration"
   ]
  },
  {
   "cell_type": "code",
   "execution_count": 30,
   "metadata": {},
   "outputs": [
    {
     "data": {
      "image/png": "[encoded data removed]",
      "text/plain": [
       "<Figure size 1008x360 with 2 Axes>"
      ]
     },
     "metadata": {},
     "output_type": "display_data"
    }
   ],
   "source": [
    "fig, axes = plt.subplots(nrows=1, ncols=2, figsize=(14,5))\n",
    "# type and token scores\n",
    "axes[0].plot(score_type_list, c='b', label='log P(type)')\n",
    "axes[0].plot(score_token_list, c='g', label='log P(token | type)')\n",
    "axes[0].set_ylabel('log-likelihood')\n",
    "axes[0].set_xlabel('iteration')\n",
    "axes[0].legend()\n",
    "# image score\n",
    "axes[1].plot(score_img_list, c='r', label='log P(image | token)')\n",
    "axes[1].set_ylabel('log-likelihood')\n",
    "axes[1].set_xlabel('iteration')\n",
    "axes[1].legend()\n",
    "plt.show()"
   ]
  },
  {
   "cell_type": "markdown",
   "metadata": {},
   "source": [
    "### check pimg vs iteration"
   ]
  },
  {
   "cell_type": "code",
   "execution_count": 31,
   "metadata": {},
   "outputs": [
    {
     "data": {
      "image/png": "[encoded data removed]",
      "text/plain": [
       "<Figure size 144x144 with 1 Axes>"
      ]
     },
     "metadata": {},
     "output_type": "display_data"
    },
    {
     "name": "stdout",
     "output_type": "stream",
     "text": [
      "\n"
     ]
    },
    {
     "data": {
      "image/png": "[encoded data removed]",
      "text/plain": [
       "<Figure size 1080x144 with 10 Axes>"
      ]
     },
     "metadata": {},
     "output_type": "display_data"
    }
   ],
   "source": [
    "plt.figure(figsize=(2,2))\n",
    "plt.imshow(img_target, cmap='Greys')\n",
    "box_only(plt)\n",
    "plt.title('target')\n",
    "plt.show()\n",
    "print('')\n",
    "\n",
    "fig, axes = plt.subplots(nrows=1, ncols=10, figsize=(15, 2))\n",
    "for i in range(10):\n",
    "    axes[i].imshow(imgs[i], cmap='Greys')\n",
    "    box_only(axes[i])\n",
    "    axes[i].set_title('%i' % (interval*i))\n",
    "plt.show()"
   ]
  },
  {
   "cell_type": "code",
   "execution_count": null,
   "metadata": {},
   "outputs": [],
   "source": []
  }
 ],
 "metadata": {
  "kernelspec": {
   "display_name": "Python 3",
   "language": "python",
   "name": "python3"
  },
  "language_info": {
   "codemirror_mode": {
    "name": "ipython",
    "version": 3
   },
   "file_extension": ".py",
   "mimetype": "text/x-python",
   "name": "python",
   "nbconvert_exporter": "python",
   "pygments_lexer": "ipython3",
   "version": "3.6.5"
  }
 },
 "nbformat": 4,
 "nbformat_minor": 2
}
