{
 "cells": [
  {
   "cell_type": "markdown",
   "metadata": {},
   "source": [
    "# Load our sub-stroke sequence dataset"
   ]
  },
  {
   "cell_type": "code",
   "execution_count": 1,
   "metadata": {},
   "outputs": [],
   "source": [
    "import numpy as np\n",
    "import pickle\n",
    "from collections import Counter"
   ]
  },
  {
   "cell_type": "code",
   "execution_count": 2,
   "metadata": {},
   "outputs": [],
   "source": [
    "with open('../subid_dict.p', 'rb') as fp:\n",
    "    sid_dict = pickle.load(fp)"
   ]
  },
  {
   "cell_type": "code",
   "execution_count": 3,
   "metadata": {},
   "outputs": [],
   "source": [
    "def flatten_subid_dict(sid_dict):\n",
    "    sid_seqs = []\n",
    "    n_alpha = len(sid_dict)\n",
    "    for a in range(n_alpha):\n",
    "        alphabet = sid_dict[a]\n",
    "        n_char = len(alphabet)\n",
    "        for c in range(n_char):\n",
    "            char = alphabet[c]\n",
    "            n_rend = len(char)\n",
    "            for r in range(n_rend):\n",
    "                rendition = char[r]\n",
    "                n_stroke = len(rendition)\n",
    "                for s in range(n_stroke):\n",
    "                    sequence = rendition[s]\n",
    "                    if len(sequence) > 0:\n",
    "                        sid_seqs.append(sequence)\n",
    "                            \n",
    "    return sid_seqs"
   ]
  },
  {
   "cell_type": "code",
   "execution_count": 4,
   "metadata": {},
   "outputs": [],
   "source": [
    "sid_seqs = flatten_subid_dict(sid_dict)"
   ]
  },
  {
   "cell_type": "code",
   "execution_count": 5,
   "metadata": {},
   "outputs": [
    {
     "data": {
      "text/plain": [
       "43861"
      ]
     },
     "execution_count": 5,
     "metadata": {},
     "output_type": "execute_result"
    }
   ],
   "source": [
    "len(sid_seqs)"
   ]
  },
  {
   "cell_type": "code",
   "execution_count": 6,
   "metadata": {},
   "outputs": [
    {
     "data": {
      "text/plain": [
       "[[195, 955, 844],\n",
       " [831],\n",
       " [1096],\n",
       " [1101],\n",
       " [994],\n",
       " [931],\n",
       " [350, 794],\n",
       " [2, 22, 794],\n",
       " [601],\n",
       " [994]]"
      ]
     },
     "execution_count": 6,
     "metadata": {},
     "output_type": "execute_result"
    }
   ],
   "source": [
    "sid_seqs[:10]"
   ]
  },
  {
   "cell_type": "code",
   "execution_count": 7,
   "metadata": {},
   "outputs": [],
   "source": [
    "prim_list = []\n",
    "for seq in sid_seqs:\n",
    "    prim_list.extend(seq)"
   ]
  },
  {
   "cell_type": "code",
   "execution_count": 8,
   "metadata": {
    "scrolled": true
   },
   "outputs": [
    {
     "data": {
      "text/plain": [
       "[(794, 7817),\n",
       " (831, 4379),\n",
       " (266, 3959),\n",
       " (931, 3239),\n",
       " (844, 2274),\n",
       " (1040, 2267),\n",
       " (716, 1845),\n",
       " (994, 1260),\n",
       " (598, 1201),\n",
       " (805, 1045),\n",
       " (1187, 1026),\n",
       " (472, 973),\n",
       " (597, 894),\n",
       " (652, 870),\n",
       " (706, 853),\n",
       " (1132, 766),\n",
       " (650, 747),\n",
       " (1114, 655),\n",
       " (0, 648),\n",
       " (112, 627),\n",
       " (1, 530),\n",
       " (553, 498),\n",
       " (1006, 460),\n",
       " (2, 430),\n",
       " (601, 384),\n",
       " (1013, 342),\n",
       " (439, 342),\n",
       " (977, 339),\n",
       " (233, 334),\n",
       " (505, 332),\n",
       " (5, 285),\n",
       " (11, 281),\n",
       " (15, 255),\n",
       " (1101, 250),\n",
       " (10, 235),\n",
       " (312, 211),\n",
       " (575, 210),\n",
       " (600, 194),\n",
       " (920, 187),\n",
       " (307, 185),\n",
       " (8, 178),\n",
       " (1088, 174),\n",
       " (7, 172),\n",
       " (591, 169),\n",
       " (6, 156),\n",
       " (689, 149),\n",
       " (1012, 148),\n",
       " (17, 130),\n",
       " (543, 121),\n",
       " (22, 120),\n",
       " (19, 118),\n",
       " (29, 107),\n",
       " (30, 107),\n",
       " (20, 106),\n",
       " (3, 104),\n",
       " (24, 103),\n",
       " (23, 100),\n",
       " (21, 99),\n",
       " (48, 99),\n",
       " (787, 98),\n",
       " (28, 98),\n",
       " (1061, 96),\n",
       " (27, 94),\n",
       " (909, 89),\n",
       " (53, 84),\n",
       " (35, 81),\n",
       " (65, 77),\n",
       " (995, 76),\n",
       " (33, 76),\n",
       " (1007, 75),\n",
       " (626, 75),\n",
       " (9, 74),\n",
       " (675, 73),\n",
       " (4, 73),\n",
       " (55, 70),\n",
       " (39, 69),\n",
       " (1025, 69),\n",
       " (31, 69),\n",
       " (793, 68),\n",
       " (865, 68),\n",
       " (69, 68),\n",
       " (59, 68),\n",
       " (608, 68),\n",
       " (40, 67),\n",
       " (230, 67),\n",
       " (34, 65),\n",
       " (461, 65),\n",
       " (32, 64),\n",
       " (25, 63),\n",
       " (277, 62),\n",
       " (61, 61),\n",
       " (139, 61),\n",
       " (42, 61),\n",
       " (85, 60),\n",
       " (45, 59),\n",
       " (26, 59),\n",
       " (897, 57),\n",
       " (128, 57),\n",
       " (165, 57),\n",
       " (38, 56)]"
      ]
     },
     "execution_count": 8,
     "metadata": {},
     "output_type": "execute_result"
    }
   ],
   "source": [
    "Counter(prim_list).most_common(100)"
   ]
  },
  {
   "cell_type": "markdown",
   "metadata": {},
   "source": [
    "# Compare to samples from BPL graphical model"
   ]
  },
  {
   "cell_type": "code",
   "execution_count": 9,
   "metadata": {},
   "outputs": [],
   "source": [
    "import torch\n",
    "\n",
    "from pybpl.model.type_dist import CharacterTypeDist, StrokeTypeDist\n",
    "from pybpl.library import Library"
   ]
  },
  {
   "cell_type": "code",
   "execution_count": 10,
   "metadata": {},
   "outputs": [],
   "source": [
    "lib = Library()\n",
    "char_dist = CharacterTypeDist(lib)\n",
    "stroke_dist = StrokeTypeDist(lib)"
   ]
  },
  {
   "cell_type": "code",
   "execution_count": 13,
   "metadata": {},
   "outputs": [],
   "source": [
    "sid_seqs1 = []\n",
    "for nb_characters in range(20000):\n",
    "    k = char_dist.sample_k()\n",
    "    for nb_strokes in range(k):\n",
    "        nsub = stroke_dist.sample_nsub(k)\n",
    "        ids = stroke_dist.sample_subIDs(nsub)\n",
    "        sid_seqs1.append(list(ids.numpy()))"
   ]
  },
  {
   "cell_type": "code",
   "execution_count": 14,
   "metadata": {},
   "outputs": [
    {
     "data": {
      "text/plain": [
       "48564"
      ]
     },
     "execution_count": 14,
     "metadata": {},
     "output_type": "execute_result"
    }
   ],
   "source": [
    "len(sid_seqs1)"
   ]
  },
  {
   "cell_type": "code",
   "execution_count": 15,
   "metadata": {},
   "outputs": [
    {
     "data": {
      "text/plain": [
       "[[354, 1058, 180, 1016],\n",
       " [184],\n",
       " [413, 456, 1],\n",
       " [351],\n",
       " [81, 20, 42],\n",
       " [447, 710],\n",
       " [70],\n",
       " [76, 1114],\n",
       " [300],\n",
       " [10]]"
      ]
     },
     "execution_count": 15,
     "metadata": {},
     "output_type": "execute_result"
    }
   ],
   "source": [
    "sid_seqs1[:10]"
   ]
  },
  {
   "cell_type": "code",
   "execution_count": 16,
   "metadata": {},
   "outputs": [],
   "source": [
    "prim_list1 = []\n",
    "for seq in sid_seqs1:\n",
    "    prim_list1.extend(seq)"
   ]
  },
  {
   "cell_type": "code",
   "execution_count": 17,
   "metadata": {
    "scrolled": true
   },
   "outputs": [
    {
     "data": {
      "text/plain": [
       "[(0, 1731),\n",
       " (1, 1585),\n",
       " (3, 1548),\n",
       " (2, 1508),\n",
       " (4, 1319),\n",
       " (6, 1301),\n",
       " (5, 1267),\n",
       " (9, 1218),\n",
       " (7, 1201),\n",
       " (8, 1120),\n",
       " (10, 1017),\n",
       " (14, 871),\n",
       " (12, 849),\n",
       " (13, 803),\n",
       " (16, 705),\n",
       " (18, 569),\n",
       " (15, 523),\n",
       " (11, 510),\n",
       " (17, 339),\n",
       " (20, 300),\n",
       " (19, 300),\n",
       " (24, 290),\n",
       " (22, 261),\n",
       " (41, 248),\n",
       " (31, 242),\n",
       " (26, 223),\n",
       " (36, 220),\n",
       " (37, 218),\n",
       " (23, 210),\n",
       " (25, 206),\n",
       " (21, 204),\n",
       " (34, 195),\n",
       " (33, 191),\n",
       " (45, 183),\n",
       " (38, 181),\n",
       " (35, 180),\n",
       " (28, 176),\n",
       " (76, 175),\n",
       " (44, 175),\n",
       " (50, 175),\n",
       " (70, 173),\n",
       " (52, 173),\n",
       " (88, 172),\n",
       " (43, 171),\n",
       " (29, 170),\n",
       " (47, 167),\n",
       " (68, 167),\n",
       " (100, 167),\n",
       " (32, 162),\n",
       " (27, 160),\n",
       " (60, 160),\n",
       " (46, 160),\n",
       " (63, 157),\n",
       " (40, 156),\n",
       " (81, 151),\n",
       " (71, 145),\n",
       " (112, 144),\n",
       " (77, 143),\n",
       " (39, 141),\n",
       " (48, 140),\n",
       " (64, 139),\n",
       " (30, 138),\n",
       " (72, 138),\n",
       " (87, 137),\n",
       " (90, 136),\n",
       " (57, 136),\n",
       " (106, 135),\n",
       " (82, 134),\n",
       " (58, 133),\n",
       " (138, 133),\n",
       " (66, 133),\n",
       " (65, 132),\n",
       " (54, 130),\n",
       " (89, 129),\n",
       " (133, 128),\n",
       " (119, 127),\n",
       " (99, 127),\n",
       " (121, 125),\n",
       " (83, 125),\n",
       " (160, 123),\n",
       " (53, 123),\n",
       " (159, 121),\n",
       " (107, 121),\n",
       " (84, 121),\n",
       " (55, 120),\n",
       " (122, 120),\n",
       " (118, 119),\n",
       " (141, 119),\n",
       " (75, 117),\n",
       " (109, 117),\n",
       " (97, 116),\n",
       " (125, 116),\n",
       " (93, 115),\n",
       " (79, 113),\n",
       " (51, 113),\n",
       " (67, 113),\n",
       " (139, 112),\n",
       " (74, 110),\n",
       " (98, 110),\n",
       " (80, 110)]"
      ]
     },
     "execution_count": 17,
     "metadata": {},
     "output_type": "execute_result"
    }
   ],
   "source": [
    "Counter(prim_list1).most_common(100)"
   ]
  },
  {
   "cell_type": "code",
   "execution_count": null,
   "metadata": {},
   "outputs": [],
   "source": []
  }
 ],
 "metadata": {
  "kernelspec": {
   "display_name": "Python 3",
   "language": "python",
   "name": "python3"
  },
  "language_info": {
   "codemirror_mode": {
    "name": "ipython",
    "version": 3
   },
   "file_extension": ".py",
   "mimetype": "text/x-python",
   "name": "python",
   "nbconvert_exporter": "python",
   "pygments_lexer": "ipython3",
   "version": "3.6.5"
  }
 },
 "nbformat": 4,
 "nbformat_minor": 2
}
