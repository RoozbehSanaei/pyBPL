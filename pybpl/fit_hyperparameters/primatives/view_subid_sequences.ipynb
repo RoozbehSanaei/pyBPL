{
 "cells": [
  {
   "cell_type": "markdown",
   "metadata": {},
   "source": [
    "# Load our sub-stroke sequence dataset"
   ]
  },
  {
   "cell_type": "code",
   "execution_count": 23,
   "metadata": {},
   "outputs": [],
   "source": [
    "import numpy as np\n",
    "import pickle\n",
    "from collections import Counter"
   ]
  },
  {
   "cell_type": "code",
   "execution_count": 3,
   "metadata": {},
   "outputs": [],
   "source": [
    "with open('../subid_dict.p', 'rb') as fp:\n",
    "    sid_dict = pickle.load(fp)"
   ]
  },
  {
   "cell_type": "code",
   "execution_count": 7,
   "metadata": {},
   "outputs": [],
   "source": [
    "def flatten_subid_dict(sid_dict):\n",
    "    sid_seqs = []\n",
    "    n_alpha = len(sid_dict)\n",
    "    for a in range(n_alpha):\n",
    "        alphabet = sid_dict[a]\n",
    "        n_char = len(alphabet)\n",
    "        for c in range(n_char):\n",
    "            char = alphabet[c]\n",
    "            n_rend = len(char)\n",
    "            for r in range(n_rend):\n",
    "                rendition = char[r]\n",
    "                n_stroke = len(rendition)\n",
    "                for s in range(n_stroke):\n",
    "                    sequence = rendition[s]\n",
    "                    if len(sequence) > 0:\n",
    "                        sid_seqs.append(sequence)\n",
    "                            \n",
    "    return sid_seqs"
   ]
  },
  {
   "cell_type": "code",
   "execution_count": 14,
   "metadata": {},
   "outputs": [],
   "source": [
    "sid_seqs = flatten_subid_dict(sid_dict)"
   ]
  },
  {
   "cell_type": "code",
   "execution_count": 15,
   "metadata": {},
   "outputs": [
    {
     "data": {
      "text/plain": [
       "43861"
      ]
     },
     "execution_count": 15,
     "metadata": {},
     "output_type": "execute_result"
    }
   ],
   "source": [
    "len(sid_seqs)"
   ]
  },
  {
   "cell_type": "code",
   "execution_count": 22,
   "metadata": {},
   "outputs": [
    {
     "data": {
      "text/plain": [
       "[[195, 955, 844],\n",
       " [831],\n",
       " [1096],\n",
       " [1101],\n",
       " [994],\n",
       " [931],\n",
       " [350, 794],\n",
       " [2, 22, 794],\n",
       " [601],\n",
       " [994]]"
      ]
     },
     "execution_count": 22,
     "metadata": {},
     "output_type": "execute_result"
    }
   ],
   "source": [
    "sid_seqs[:10]"
   ]
  },
  {
   "cell_type": "code",
   "execution_count": 18,
   "metadata": {},
   "outputs": [],
   "source": [
    "prim_list = []\n",
    "for seq in sid_seqs:\n",
    "    prim_list.extend(seq)"
   ]
  },
  {
   "cell_type": "code",
   "execution_count": 21,
   "metadata": {
    "scrolled": true
   },
   "outputs": [
    {
     "data": {
      "text/plain": [
       "[(794, 7817),\n",
       " (831, 4379),\n",
       " (266, 3959),\n",
       " (931, 3239),\n",
       " (844, 2274),\n",
       " (1040, 2267),\n",
       " (716, 1845),\n",
       " (994, 1260),\n",
       " (598, 1201),\n",
       " (805, 1045),\n",
       " (1187, 1026),\n",
       " (472, 973),\n",
       " (597, 894),\n",
       " (652, 870),\n",
       " (706, 853),\n",
       " (1132, 766),\n",
       " (650, 747),\n",
       " (1114, 655),\n",
       " (0, 648),\n",
       " (112, 627),\n",
       " (1, 530),\n",
       " (553, 498),\n",
       " (1006, 460),\n",
       " (2, 430),\n",
       " (601, 384),\n",
       " (1013, 342),\n",
       " (439, 342),\n",
       " (977, 339),\n",
       " (233, 334),\n",
       " (505, 332),\n",
       " (5, 285),\n",
       " (11, 281),\n",
       " (15, 255),\n",
       " (1101, 250),\n",
       " (10, 235),\n",
       " (312, 211),\n",
       " (575, 210),\n",
       " (600, 194),\n",
       " (920, 187),\n",
       " (307, 185),\n",
       " (8, 178),\n",
       " (1088, 174),\n",
       " (7, 172),\n",
       " (591, 169),\n",
       " (6, 156),\n",
       " (689, 149),\n",
       " (1012, 148),\n",
       " (17, 130),\n",
       " (543, 121),\n",
       " (22, 120),\n",
       " (19, 118),\n",
       " (29, 107),\n",
       " (30, 107),\n",
       " (20, 106),\n",
       " (3, 104),\n",
       " (24, 103),\n",
       " (23, 100),\n",
       " (21, 99),\n",
       " (48, 99),\n",
       " (787, 98),\n",
       " (28, 98),\n",
       " (1061, 96),\n",
       " (27, 94),\n",
       " (909, 89),\n",
       " (53, 84),\n",
       " (35, 81),\n",
       " (65, 77),\n",
       " (995, 76),\n",
       " (33, 76),\n",
       " (1007, 75),\n",
       " (626, 75),\n",
       " (9, 74),\n",
       " (675, 73),\n",
       " (4, 73),\n",
       " (55, 70),\n",
       " (39, 69),\n",
       " (1025, 69),\n",
       " (31, 69),\n",
       " (793, 68),\n",
       " (865, 68),\n",
       " (69, 68),\n",
       " (59, 68),\n",
       " (608, 68),\n",
       " (40, 67),\n",
       " (230, 67),\n",
       " (34, 65),\n",
       " (461, 65),\n",
       " (32, 64),\n",
       " (25, 63),\n",
       " (277, 62),\n",
       " (61, 61),\n",
       " (139, 61),\n",
       " (42, 61),\n",
       " (85, 60),\n",
       " (45, 59),\n",
       " (26, 59),\n",
       " (897, 57),\n",
       " (128, 57),\n",
       " (165, 57),\n",
       " (38, 56)]"
      ]
     },
     "execution_count": 21,
     "metadata": {},
     "output_type": "execute_result"
    }
   ],
   "source": [
    "Counter(prim_list).most_common(100)"
   ]
  },
  {
   "cell_type": "markdown",
   "metadata": {},
   "source": [
    "# Compare to samples from BPL graphical model"
   ]
  },
  {
   "cell_type": "code",
   "execution_count": 24,
   "metadata": {},
   "outputs": [],
   "source": [
    "import torch\n",
    "\n",
    "from pybpl.model.type_dist import CharacterTypeDist, StrokeTypeDist\n",
    "from pybpl.library import Library"
   ]
  },
  {
   "cell_type": "code",
   "execution_count": 25,
   "metadata": {},
   "outputs": [],
   "source": [
    "lib = Library()\n",
    "char_dist = CharacterTypeDist(lib)\n",
    "stroke_dist = StrokeTypeDist(lib)"
   ]
  },
  {
   "cell_type": "code",
   "execution_count": 26,
   "metadata": {},
   "outputs": [],
   "source": [
    "sid_seqs1 = []\n",
    "for nb_characters in range(1000):\n",
    "    k = char_dist.sample_k()\n",
    "    for nb_strokes in range(k):\n",
    "        nsub = stroke_dist.sample_nsub(k)\n",
    "        ids = stroke_dist.sample_subIDs(nsub)\n",
    "        sid_seqs1.append(list(ids.numpy()))"
   ]
  },
  {
   "cell_type": "code",
   "execution_count": 28,
   "metadata": {},
   "outputs": [
    {
     "data": {
      "text/plain": [
       "[[127, 304, 551, 849, 756],\n",
       " [455],\n",
       " [868],\n",
       " [437],\n",
       " [251],\n",
       " [7, 22],\n",
       " [223],\n",
       " [82, 240, 369, 8],\n",
       " [413, 640, 908, 30],\n",
       " [10]]"
      ]
     },
     "execution_count": 28,
     "metadata": {},
     "output_type": "execute_result"
    }
   ],
   "source": [
    "sid_seqs1[:10]"
   ]
  },
  {
   "cell_type": "code",
   "execution_count": 29,
   "metadata": {},
   "outputs": [],
   "source": [
    "prim_list1 = []\n",
    "for seq in sid_seqs1:\n",
    "    prim_list1.extend(seq)"
   ]
  },
  {
   "cell_type": "code",
   "execution_count": 30,
   "metadata": {
    "scrolled": true
   },
   "outputs": [
    {
     "data": {
      "text/plain": [
       "[(0, 107),\n",
       " (1, 94),\n",
       " (3, 84),\n",
       " (2, 71),\n",
       " (4, 68),\n",
       " (5, 67),\n",
       " (9, 66),\n",
       " (10, 59),\n",
       " (7, 58),\n",
       " (8, 56),\n",
       " (14, 55),\n",
       " (6, 55),\n",
       " (12, 50),\n",
       " (11, 42),\n",
       " (13, 41),\n",
       " (15, 32),\n",
       " (16, 31),\n",
       " (22, 25),\n",
       " (41, 19),\n",
       " (81, 16),\n",
       " (31, 16),\n",
       " (18, 15),\n",
       " (17, 15),\n",
       " (19, 14),\n",
       " (26, 14),\n",
       " (20, 14),\n",
       " (64, 13),\n",
       " (74, 13),\n",
       " (83, 13),\n",
       " (36, 13),\n",
       " (133, 13),\n",
       " (35, 12),\n",
       " (40, 12),\n",
       " (29, 12),\n",
       " (121, 12),\n",
       " (45, 12),\n",
       " (37, 12),\n",
       " (51, 12),\n",
       " (70, 11),\n",
       " (87, 11),\n",
       " (44, 11),\n",
       " (33, 11),\n",
       " (68, 11),\n",
       " (52, 11),\n",
       " (28, 10),\n",
       " (171, 10),\n",
       " (85, 10),\n",
       " (76, 10),\n",
       " (168, 10),\n",
       " (249, 10),\n",
       " (225, 10),\n",
       " (38, 10),\n",
       " (27, 10),\n",
       " (60, 10),\n",
       " (24, 10),\n",
       " (66, 10),\n",
       " (82, 9),\n",
       " (180, 9),\n",
       " (95, 9),\n",
       " (93, 9),\n",
       " (47, 9),\n",
       " (550, 9),\n",
       " (69, 9),\n",
       " (23, 9),\n",
       " (30, 8),\n",
       " (80, 8),\n",
       " (163, 8),\n",
       " (124, 8),\n",
       " (194, 8),\n",
       " (86, 8),\n",
       " (88, 8),\n",
       " (543, 8),\n",
       " (146, 8),\n",
       " (100, 8),\n",
       " (46, 8),\n",
       " (138, 8),\n",
       " (58, 8),\n",
       " (54, 8),\n",
       " (331, 8),\n",
       " (90, 8),\n",
       " (484, 8),\n",
       " (322, 8),\n",
       " (150, 8),\n",
       " (99, 8),\n",
       " (321, 8),\n",
       " (77, 8),\n",
       " (34, 8),\n",
       " (173, 8),\n",
       " (92, 8),\n",
       " (251, 7),\n",
       " (640, 7),\n",
       " (255, 7),\n",
       " (67, 7),\n",
       " (55, 7),\n",
       " (447, 7),\n",
       " (565, 7),\n",
       " (254, 7),\n",
       " (59, 7),\n",
       " (230, 7),\n",
       " (277, 7)]"
      ]
     },
     "execution_count": 30,
     "metadata": {},
     "output_type": "execute_result"
    }
   ],
   "source": [
    "Counter(prim_list1).most_common(100)"
   ]
  },
  {
   "cell_type": "code",
   "execution_count": null,
   "metadata": {},
   "outputs": [],
   "source": []
  }
 ],
 "metadata": {
  "kernelspec": {
   "display_name": "Python 3",
   "language": "python",
   "name": "python3"
  },
  "language_info": {
   "codemirror_mode": {
    "name": "ipython",
    "version": 3
   },
   "file_extension": ".py",
   "mimetype": "text/x-python",
   "name": "python",
   "nbconvert_exporter": "python",
   "pygments_lexer": "ipython3",
   "version": "3.6.5"
  }
 },
 "nbformat": 4,
 "nbformat_minor": 2
}
