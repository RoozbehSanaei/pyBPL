{
 "cells": [
  {
   "cell_type": "code",
   "execution_count": 1,
   "metadata": {},
   "outputs": [],
   "source": [
    "import numpy as np\n",
    "import pickle\n",
    "\n",
    "from pybpl import splines"
   ]
  },
  {
   "cell_type": "code",
   "execution_count": 44,
   "metadata": {},
   "outputs": [],
   "source": [
    "with open('../substroke_dict.p', 'rb') as fp:\n",
    "    ss_dict = pickle.load(fp)"
   ]
  },
  {
   "cell_type": "code",
   "execution_count": 38,
   "metadata": {},
   "outputs": [],
   "source": [
    "def norm_substk(substroke, newscale=105):\n",
    "    mu = np.mean(substroke, axis=0)\n",
    "    substroke = substroke - mu\n",
    "    range_x, range_y = np.ptp(substroke,axis=0)\n",
    "    scale = newscale / max(1,max(range_x,range_y))\n",
    "    substroke = substroke*scale\n",
    "    \n",
    "    return substroke, mu, scale"
   ]
  },
  {
   "cell_type": "code",
   "execution_count": 45,
   "metadata": {},
   "outputs": [
    {
     "name": "stdout",
     "output_type": "stream",
     "text": [
      "<class 'numpy.ndarray'>\n",
      "49\n"
     ]
    }
   ],
   "source": [
    "a = 0\n",
    "c = 0\n",
    "r = 0\n",
    "s = 0\n",
    "ss = 1\n",
    "substroke = ss_dict[a][c][r][s][ss]\n",
    "print(type(substroke))\n",
    "print(len(substroke))"
   ]
  },
  {
   "cell_type": "code",
   "execution_count": 46,
   "metadata": {
    "scrolled": true
   },
   "outputs": [],
   "source": [
    "substroke_n, _, scale = norm_substk(substroke)"
   ]
  },
  {
   "cell_type": "code",
   "execution_count": 54,
   "metadata": {},
   "outputs": [],
   "source": [
    "def ss_dict_to_spline_dict(ss_dict):\n",
    "    spline_dict = {}\n",
    "    n_alpha = len(ss_dict)\n",
    "    for a in range(n_alpha):\n",
    "        spline_dict[a] = {}\n",
    "        alphabet = ss_dict[a]\n",
    "        n_char = len(alphabet)\n",
    "        for c in range(n_char):\n",
    "            spline_dict[a][c] = {}\n",
    "            char = alphabet[c]\n",
    "            n_rend = len(char)\n",
    "            for r in range(n_rend):\n",
    "                spline_dict[a][c][r] = {}\n",
    "                rendition = char[r]\n",
    "                n_stroke = len(rendition)\n",
    "                for s in range(n_stroke):\n",
    "                    spline_dict[a][c][r][s] = {}\n",
    "                    stroke = rendition[s]\n",
    "                    n_substrokes = len(stroke)\n",
    "                    for ss in range(n_substrokes):\n",
    "                        num_steps = len(stroke[ss])\n",
    "                        if num_steps >= 10:\n",
    "                            spline_dict[a][c][r][s][ss] = np.zeros((5,2))\n",
    "                            substk = stroke[ss]\n",
    "                            substk, _, scale = norm_substk(substk)\n",
    "                            spline = splines.fit_bspline_to_traj(substk, nland=5)\n",
    "                            # PyTorch -> Numpy\n",
    "                            spline = spline.numpy()\n",
    "                            # Add 2 extra dimensions - scales weighted twice\n",
    "                            spline = np.append(spline, [[scale, scale]], axis=0)\n",
    "                            spline_dict[a][c][r][s][ss] = spline\n",
    "    return spline_dict"
   ]
  },
  {
   "cell_type": "code",
   "execution_count": 55,
   "metadata": {},
   "outputs": [
    {
     "name": "stderr",
     "output_type": "stream",
     "text": [
      "/Users/rfeinman/src/pyBPL/pybpl/splines.py:79: FutureWarning: `rcond` parameter will change to the default of machine precision times ``max(M, N)`` where M and N are the input matrix dimensions.\n",
      "To use the future default and silence this warning we advise to pass `rcond=None`, to keep using the old, explicitly pass `rcond=-1`.\n",
      "  P, _, _, _ = np.linalg.lstsq(np.matmul(Cof.T, Cof), np.matmul(Cof.T, X))\n"
     ]
    }
   ],
   "source": [
    "spline_dict = ss_dict_to_spline_dict(ss_dict)"
   ]
  },
  {
   "cell_type": "code",
   "execution_count": 59,
   "metadata": {},
   "outputs": [],
   "source": [
    "with open('../spline_dict.p', 'wb') as fp:\n",
    "    pickle.dump(spline_dict, fp, protocol=pickle.HIGHEST_PROTOCOL)"
   ]
  },
  {
   "cell_type": "code",
   "execution_count": 56,
   "metadata": {},
   "outputs": [
    {
     "name": "stdout",
     "output_type": "stream",
     "text": [
      "(6, 2)\n"
     ]
    }
   ],
   "source": [
    "a = 0\n",
    "c = 0\n",
    "r = 0\n",
    "s = 0\n",
    "ss = 1\n",
    "spline = spline_dict[a][c][r][s][ss]\n",
    "print(spline.shape)"
   ]
  },
  {
   "cell_type": "code",
   "execution_count": 57,
   "metadata": {},
   "outputs": [
    {
     "data": {
      "text/plain": [
       "array([[ 22.07154465,  55.81287384],\n",
       "       [  4.07091761,  26.45222092],\n",
       "       [ -2.25516343,   0.58225691],\n",
       "       [ -9.35992146, -24.93243408],\n",
       "       [ -8.8428812 , -59.49704742],\n",
       "       [  2.25875559,   2.25875559]])"
      ]
     },
     "execution_count": 57,
     "metadata": {},
     "output_type": "execute_result"
    }
   ],
   "source": [
    "spline"
   ]
  },
  {
   "cell_type": "code",
   "execution_count": 53,
   "metadata": {},
   "outputs": [
    {
     "data": {
      "text/plain": [
       "array([[ 116.29638672,  -38.41197205],\n",
       "       [  98.29576874,  -67.77262878],\n",
       "       [  91.96968079,  -93.64258575],\n",
       "       [  84.8649292 , -119.1572876 ],\n",
       "       [  85.38195801, -153.72189331],\n",
       "       [   0.5       ,    0.5       ]])"
      ]
     },
     "execution_count": 53,
     "metadata": {},
     "output_type": "execute_result"
    }
   ],
   "source": [
    "np.append(spline, [[0.5, 0.5]], axis=0)"
   ]
  },
  {
   "cell_type": "code",
   "execution_count": null,
   "metadata": {},
   "outputs": [],
   "source": []
  }
 ],
 "metadata": {
  "kernelspec": {
   "display_name": "Python 3",
   "language": "python",
   "name": "python3"
  },
  "language_info": {
   "codemirror_mode": {
    "name": "ipython",
    "version": 3
   },
   "file_extension": ".py",
   "mimetype": "text/x-python",
   "name": "python",
   "nbconvert_exporter": "python",
   "pygments_lexer": "ipython3",
   "version": "3.6.5"
  }
 },
 "nbformat": 4,
 "nbformat_minor": 2
}
