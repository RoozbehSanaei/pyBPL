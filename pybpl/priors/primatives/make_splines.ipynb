{
 "cells": [
  {
   "cell_type": "code",
   "execution_count": 1,
   "metadata": {},
   "outputs": [],
   "source": [
    "import numpy as np\n",
    "import pickle\n",
    "\n",
    "from pybpl import splines"
   ]
  },
  {
   "cell_type": "code",
   "execution_count": 2,
   "metadata": {},
   "outputs": [],
   "source": [
    "with open('../substroke_dict.p', 'rb') as fp:\n",
    "    ss_dict = pickle.load(fp)"
   ]
  },
  {
   "cell_type": "code",
   "execution_count": 3,
   "metadata": {},
   "outputs": [],
   "source": [
    "def norm_substk(substroke, newscale=105):\n",
    "    mu = np.mean(substroke)\n",
    "    substroke = substroke - mu\n",
    "    xs = substroke[:,0]\n",
    "    ys = substroke[:,1]\n",
    "    range_x = xs.max() - xs.min()\n",
    "    range_y = ys.max() - ys.min()\n",
    "    scale = newscale / max(1,max(range_x,range_y))\n",
    "    substroke *= scale\n",
    "    \n",
    "    return substroke "
   ]
  },
  {
   "cell_type": "code",
   "execution_count": 4,
   "metadata": {},
   "outputs": [
    {
     "name": "stdout",
     "output_type": "stream",
     "text": [
      "<class 'numpy.ndarray'>\n",
      "49\n"
     ]
    }
   ],
   "source": [
    "a = 0\n",
    "c = 0\n",
    "r = 0\n",
    "s = 0\n",
    "ss = 1\n",
    "substroke = ss_dict[a][c][r][s][ss]\n",
    "print(type(substroke))\n",
    "print(len(substroke))"
   ]
  },
  {
   "cell_type": "code",
   "execution_count": 5,
   "metadata": {
    "scrolled": true
   },
   "outputs": [
    {
     "data": {
      "text/plain": [
       "array([[ 44.25257732, -25.62785161],\n",
       "       [ 43.45401795, -26.27752703],\n",
       "       [ 42.65545858, -26.92720245],\n",
       "       [ 41.94599905, -27.64142647],\n",
       "       [ 41.57752045, -28.602675  ],\n",
       "       [ 41.20904185, -29.56392352],\n",
       "       [ 40.84056325, -30.52517205],\n",
       "       [ 40.47208465, -31.48642058],\n",
       "       [ 40.05873501, -32.42790736],\n",
       "       [ 39.59834926, -33.34867887],\n",
       "       [ 39.1379635 , -34.26945038],\n",
       "       [ 38.67757775, -35.19022189],\n",
       "       [ 38.21877072, -36.11175217],\n",
       "       [ 37.78736967, -37.04645444],\n",
       "       [ 37.35596862, -37.98115672],\n",
       "       [ 36.92456757, -38.915859  ],\n",
       "       [ 36.55964049, -39.87816251],\n",
       "       [ 36.20209639, -40.84353157],\n",
       "       [ 35.84455229, -41.80890063],\n",
       "       [ 35.48700819, -42.7742697 ],\n",
       "       [ 35.12946409, -43.73963876],\n",
       "       [ 34.77192   , -44.70500783],\n",
       "       [ 34.52402875, -45.6990372 ],\n",
       "       [ 34.36347248, -46.71589357],\n",
       "       [ 34.20291621, -47.73274995],\n",
       "       [ 34.04235994, -48.74960633],\n",
       "       [ 33.87999007, -49.76617115],\n",
       "       [ 33.71374505, -50.78211298],\n",
       "       [ 33.54750002, -51.79805481],\n",
       "       [ 33.38125499, -52.81399664],\n",
       "       [ 33.18573111, -53.82318092],\n",
       "       [ 32.88991972, -54.80921887],\n",
       "       [ 32.59410834, -55.79525682],\n",
       "       [ 32.30401738, -56.7828984 ],\n",
       "       [ 32.04416069, -57.77901572],\n",
       "       [ 31.78430399, -58.77513304],\n",
       "       [ 31.5244473 , -59.77125036],\n",
       "       [ 31.43814433, -60.78963255],\n",
       "       [ 31.43814433, -61.81908639],\n",
       "       [ 31.43814433, -62.84854024],\n",
       "       [ 31.43814433, -63.87799408],\n",
       "       [ 31.43814433, -64.90744792],\n",
       "       [ 31.43814433, -65.93690176],\n",
       "       [ 31.43814433, -66.9663556 ],\n",
       "       [ 31.43814433, -67.99580944],\n",
       "       [ 31.43814433, -69.02526328],\n",
       "       [ 31.43814433, -70.05471713],\n",
       "       [ 31.43814433, -71.08417097],\n",
       "       [ 31.43814433, -72.11362481]])"
      ]
     },
     "execution_count": 5,
     "metadata": {},
     "output_type": "execute_result"
    }
   ],
   "source": [
    "substroke"
   ]
  },
  {
   "cell_type": "code",
   "execution_count": 19,
   "metadata": {
    "scrolled": true
   },
   "outputs": [],
   "source": [
    "substroke_n = norm_substk(substroke)"
   ]
  },
  {
   "cell_type": "code",
   "execution_count": 20,
   "metadata": {
    "scrolled": true
   },
   "outputs": [
    {
     "data": {
      "text/plain": [
       "array([[ 114.27592972,  -43.56687967],\n",
       "       [ 112.47217929,  -45.03433765],\n",
       "       [ 110.66842885,  -46.50179563],\n",
       "       [ 109.06593317,  -48.11505313],\n",
       "       [ 108.23363007,  -50.28627861],\n",
       "       [ 107.40132697,  -52.4575041 ],\n",
       "       [ 106.56902387,  -54.62872958],\n",
       "       [ 105.73672077,  -56.79995506],\n",
       "       [ 104.80306497,  -58.9265436 ],\n",
       "       [ 103.76316608,  -61.00634138],\n",
       "       [ 102.72326718,  -63.08613917],\n",
       "       [ 101.68336829,  -65.16593696],\n",
       "       [ 100.64703534,  -67.24744864],\n",
       "       [  99.67260581,  -69.35871263],\n",
       "       [  98.69817628,  -71.46997662],\n",
       "       [  97.72374674,  -73.58124061],\n",
       "       [  96.89946566,  -75.75484904],\n",
       "       [  96.09186093,  -77.93538181],\n",
       "       [  95.2842562 ,  -80.11591458],\n",
       "       [  94.47665147,  -82.29644735],\n",
       "       [  93.66904674,  -84.47698011],\n",
       "       [  92.86144201,  -86.65751288],\n",
       "       [  92.30151628,  -88.90278227],\n",
       "       [  91.93885891,  -91.1996123 ],\n",
       "       [  91.57620154,  -93.49644233],\n",
       "       [  91.21354416,  -95.79327236],\n",
       "       [  90.84679031,  -98.08944382],\n",
       "       [  90.47128343, -100.38420811],\n",
       "       [  90.09577655, -102.6789724 ],\n",
       "       [  89.72026966, -104.97373668],\n",
       "       [  89.27862899, -107.25323731],\n",
       "       [  88.61046337, -109.48045604],\n",
       "       [  87.94229775, -111.70767476],\n",
       "       [  87.28705318, -113.93851572],\n",
       "       [  86.70010042, -116.18850128],\n",
       "       [  86.11314767, -118.43848684],\n",
       "       [  85.52619491, -120.68847239],\n",
       "       [  85.33125759, -122.98874887],\n",
       "       [  85.33125759, -125.31403349],\n",
       "       [  85.33125759, -127.63931811],\n",
       "       [  85.33125759, -129.96460273],\n",
       "       [  85.33125759, -132.28988734],\n",
       "       [  85.33125759, -134.61517196],\n",
       "       [  85.33125759, -136.94045658],\n",
       "       [  85.33125759, -139.2657412 ],\n",
       "       [  85.33125759, -141.59102581],\n",
       "       [  85.33125759, -143.91631043],\n",
       "       [  85.33125759, -146.24159505],\n",
       "       [  85.33125759, -148.56687967]])"
      ]
     },
     "execution_count": 20,
     "metadata": {},
     "output_type": "execute_result"
    }
   ],
   "source": [
    "substroke_n"
   ]
  },
  {
   "cell_type": "code",
   "execution_count": 17,
   "metadata": {},
   "outputs": [],
   "source": [
    "def ss_dict_to_spline_dict(ss_dict):\n",
    "    spline_dict = {}\n",
    "    n_alpha = len(ss_dict)\n",
    "    for a in range(n_alpha):\n",
    "        spline_dict[a] = {}\n",
    "        alphabet = ss_dict[a]\n",
    "        n_char = len(alphabet)\n",
    "        for c in range(n_char):\n",
    "            spline_dict[a][c] = {}\n",
    "            char = alphabet[c]\n",
    "            n_rend = len(char)\n",
    "            for r in range(n_rend):\n",
    "                spline_dict[a][c][r] = {}\n",
    "                rendition = char[r]\n",
    "                n_stroke = len(rendition)\n",
    "                for s in range(n_stroke):\n",
    "                    spline_dict[a][c][r][s] = {}\n",
    "                    stroke = rendition[s]\n",
    "                    n_substrokes = len(stroke)\n",
    "                    for ss in range(n_substrokes):\n",
    "                        num_steps = len(stroke[ss])\n",
    "                        if num_steps >= 10:\n",
    "                            spline_dict[a][c][r][s][ss] = np.zeros((5,2))\n",
    "                            substk = stroke[ss]\n",
    "                            substk = norm_substk(substk)\n",
    "                            spline = splines.fit_bspline_to_traj(substk, nland=5)\n",
    "                            spline = spline.numpy() # PyTorch -> Numpy\n",
    "                            spline_dict[a][c][r][s][ss] = spline\n",
    "    return spline_dict"
   ]
  },
  {
   "cell_type": "code",
   "execution_count": 18,
   "metadata": {},
   "outputs": [
    {
     "name": "stderr",
     "output_type": "stream",
     "text": [
      "/Users/rfeinman/src/pyBPL/pybpl/splines.py:79: FutureWarning: `rcond` parameter will change to the default of machine precision times ``max(M, N)`` where M and N are the input matrix dimensions.\n",
      "To use the future default and silence this warning we advise to pass `rcond=None`, to keep using the old, explicitly pass `rcond=-1`.\n",
      "  P, _, _, _ = np.linalg.lstsq(np.matmul(Cof.T, Cof), np.matmul(Cof.T, X))\n"
     ]
    }
   ],
   "source": [
    "spline_dict = ss_dict_to_spline_dict(ss_dict)"
   ]
  },
  {
   "cell_type": "code",
   "execution_count": null,
   "metadata": {},
   "outputs": [],
   "source": []
  }
 ],
 "metadata": {
  "kernelspec": {
   "display_name": "Python 3",
   "language": "python",
   "name": "python3"
  },
  "language_info": {
   "codemirror_mode": {
    "name": "ipython",
    "version": 3
   },
   "file_extension": ".py",
   "mimetype": "text/x-python",
   "name": "python",
   "nbconvert_exporter": "python",
   "pygments_lexer": "ipython3",
   "version": "3.6.5"
  }
 },
 "nbformat": 4,
 "nbformat_minor": 2
}
