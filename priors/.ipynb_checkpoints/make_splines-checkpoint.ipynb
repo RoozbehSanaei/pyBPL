{
 "cells": [
  {
   "cell_type": "code",
   "execution_count": 8,
   "metadata": {},
   "outputs": [],
   "source": [
    "import numpy as np"
   ]
  },
  {
   "cell_type": "code",
   "execution_count": 9,
   "metadata": {},
   "outputs": [],
   "source": [
    "def norm_substk(substroke,newscale=105):\n",
    "    mu = np.mean(substroke)\n",
    "    substroke = substroke - mu\n",
    "    xs = substroke[:,0]\n",
    "    ys = substroke[:,1]\n",
    "    range_x = xs.max() - xs.min()\n",
    "    range_y = ys.max() - ys.min()\n",
    "    scale = newscale / max(1,max(range_x,range_y))\n",
    "    substroke *= scale\n",
    "    return substroke "
   ]
  },
  {
   "cell_type": "code",
   "execution_count": null,
   "metadata": {},
   "outputs": [],
   "source": [
    "def ss_dict_to_spline_dict(ss_dict):\n",
    "    spline_dict = {}\n",
    "    n_alpha = len(ss_dict)\n",
    "    for a in range(n_alpha):\n",
    "        spline_dict[a] = {}\n",
    "        alphabet = ss_dict[a]\n",
    "        n_char = len(alphabet)\n",
    "        for c in range(n_char):\n",
    "            spline_dict[a][c] = {}\n",
    "            char = alphabet[c]\n",
    "            n_rend = len(character)\n",
    "            for r in range(n_rend):\n",
    "                spline_dict[a][c][r] = {}\n",
    "                rendition = char[r]\n",
    "                n_stroke = len(rendition)\n",
    "                for s in range(n_stroke):\n",
    "                    spline_dict[a][c][r][s] = {}\n",
    "                    stroke = rendition[s]\n",
    "                    n_substrokes = len(stroke)\n",
    "                    for ss in range(n_substrokes):\n",
    "                        num_steps = len(stroke[ss])\n",
    "                        if num_steps >= 10:\n",
    "                            spline_dict[a][c][r][s][ss] = np.zeros((5,2))\n",
    "                            substk = stroke[ss]\n",
    "                            substk = norm_substk(substk)\n",
    "                            spline = fit_bspline(substk)\n",
    "                            spline_dict[a][c][r][s][ss] = spline\n",
    "    return spline_dict"
   ]
  },
  {
   "cell_type": "code",
   "execution_count": 3,
   "metadata": {},
   "outputs": [],
   "source": [
    "import pickle\n",
    "with open('substroke_dict.p', 'rb') as fp:\n",
    "    ss_dict = pickle.load(fp)"
   ]
  },
  {
   "cell_type": "code",
   "execution_count": 19,
   "metadata": {},
   "outputs": [
    {
     "name": "stdout",
     "output_type": "stream",
     "text": [
      "<class 'numpy.ndarray'>\n",
      "49\n"
     ]
    }
   ],
   "source": [
    "a = 0\n",
    "c = 0\n",
    "r = 0\n",
    "s = 0\n",
    "ss = 1\n",
    "substroke = ss_dict[a][c][r][s][ss]\n",
    "print(type(substroke))\n",
    "print(len(substroke))"
   ]
  },
  {
   "cell_type": "code",
   "execution_count": 22,
   "metadata": {},
   "outputs": [
    {
     "data": {
      "text/plain": [
       "array([[ 114.27592972,  -43.56687967],\n",
       "       [ 112.47217929,  -45.03433765],\n",
       "       [ 110.66842885,  -46.50179563],\n",
       "       [ 109.06593317,  -48.11505313],\n",
       "       [ 108.23363007,  -50.28627861],\n",
       "       [ 107.40132697,  -52.4575041 ],\n",
       "       [ 106.56902387,  -54.62872958],\n",
       "       [ 105.73672077,  -56.79995506],\n",
       "       [ 104.80306497,  -58.9265436 ],\n",
       "       [ 103.76316608,  -61.00634138],\n",
       "       [ 102.72326718,  -63.08613917],\n",
       "       [ 101.68336829,  -65.16593696],\n",
       "       [ 100.64703534,  -67.24744864],\n",
       "       [  99.67260581,  -69.35871263],\n",
       "       [  98.69817628,  -71.46997662],\n",
       "       [  97.72374674,  -73.58124061],\n",
       "       [  96.89946566,  -75.75484904],\n",
       "       [  96.09186093,  -77.93538181],\n",
       "       [  95.2842562 ,  -80.11591458],\n",
       "       [  94.47665147,  -82.29644735],\n",
       "       [  93.66904674,  -84.47698011],\n",
       "       [  92.86144201,  -86.65751288],\n",
       "       [  92.30151628,  -88.90278227],\n",
       "       [  91.93885891,  -91.1996123 ],\n",
       "       [  91.57620154,  -93.49644233],\n",
       "       [  91.21354416,  -95.79327236],\n",
       "       [  90.84679031,  -98.08944382],\n",
       "       [  90.47128343, -100.38420811],\n",
       "       [  90.09577655, -102.6789724 ],\n",
       "       [  89.72026966, -104.97373668],\n",
       "       [  89.27862899, -107.25323731],\n",
       "       [  88.61046337, -109.48045604],\n",
       "       [  87.94229775, -111.70767476],\n",
       "       [  87.28705318, -113.93851572],\n",
       "       [  86.70010042, -116.18850128],\n",
       "       [  86.11314767, -118.43848684],\n",
       "       [  85.52619491, -120.68847239],\n",
       "       [  85.33125759, -122.98874887],\n",
       "       [  85.33125759, -125.31403349],\n",
       "       [  85.33125759, -127.63931811],\n",
       "       [  85.33125759, -129.96460273],\n",
       "       [  85.33125759, -132.28988734],\n",
       "       [  85.33125759, -134.61517196],\n",
       "       [  85.33125759, -136.94045658],\n",
       "       [  85.33125759, -139.2657412 ],\n",
       "       [  85.33125759, -141.59102581],\n",
       "       [  85.33125759, -143.91631043],\n",
       "       [  85.33125759, -146.24159505],\n",
       "       [  85.33125759, -148.56687967]])"
      ]
     },
     "execution_count": 22,
     "metadata": {},
     "output_type": "execute_result"
    }
   ],
   "source": [
    "norm_substk(substroke)"
   ]
  },
  {
   "cell_type": "code",
   "execution_count": 11,
   "metadata": {},
   "outputs": [
    {
     "ename": "TypeError",
     "evalue": "unsupported operand type(s) for /: 'dict' and 'int'",
     "output_type": "error",
     "traceback": [
      "\u001b[0;31m---------------------------------------------------------------------------\u001b[0m",
      "\u001b[0;31mTypeError\u001b[0m                                 Traceback (most recent call last)",
      "\u001b[0;32m<ipython-input-11-0c8030f84610>\u001b[0m in \u001b[0;36m<module>\u001b[0;34m\u001b[0m\n\u001b[0;32m----> 1\u001b[0;31m \u001b[0mnorm_substk\u001b[0m\u001b[0;34m(\u001b[0m\u001b[0msubstroke\u001b[0m\u001b[0;34m)\u001b[0m\u001b[0;34m\u001b[0m\u001b[0;34m\u001b[0m\u001b[0m\n\u001b[0m",
      "\u001b[0;32m<ipython-input-9-6179ccdd2c93>\u001b[0m in \u001b[0;36mnorm_substk\u001b[0;34m(substroke, newscale)\u001b[0m\n\u001b[1;32m      1\u001b[0m \u001b[0;32mdef\u001b[0m \u001b[0mnorm_substk\u001b[0m\u001b[0;34m(\u001b[0m\u001b[0msubstroke\u001b[0m\u001b[0;34m,\u001b[0m\u001b[0mnewscale\u001b[0m\u001b[0;34m=\u001b[0m\u001b[0;36m105\u001b[0m\u001b[0;34m)\u001b[0m\u001b[0;34m:\u001b[0m\u001b[0;34m\u001b[0m\u001b[0;34m\u001b[0m\u001b[0m\n\u001b[0;32m----> 2\u001b[0;31m     \u001b[0mmu\u001b[0m \u001b[0;34m=\u001b[0m \u001b[0mnp\u001b[0m\u001b[0;34m.\u001b[0m\u001b[0mmean\u001b[0m\u001b[0;34m(\u001b[0m\u001b[0msubstroke\u001b[0m\u001b[0;34m)\u001b[0m\u001b[0;34m\u001b[0m\u001b[0;34m\u001b[0m\u001b[0m\n\u001b[0m\u001b[1;32m      3\u001b[0m     \u001b[0msubstroke\u001b[0m \u001b[0;34m=\u001b[0m \u001b[0msubstroke\u001b[0m \u001b[0;34m-\u001b[0m \u001b[0mmu\u001b[0m\u001b[0;34m\u001b[0m\u001b[0;34m\u001b[0m\u001b[0m\n\u001b[1;32m      4\u001b[0m     \u001b[0mxs\u001b[0m \u001b[0;34m=\u001b[0m \u001b[0msubstroke\u001b[0m\u001b[0;34m[\u001b[0m\u001b[0;34m:\u001b[0m\u001b[0;34m,\u001b[0m\u001b[0;36m0\u001b[0m\u001b[0;34m]\u001b[0m\u001b[0;34m\u001b[0m\u001b[0;34m\u001b[0m\u001b[0m\n\u001b[1;32m      5\u001b[0m     \u001b[0mys\u001b[0m \u001b[0;34m=\u001b[0m \u001b[0msubstroke\u001b[0m\u001b[0;34m[\u001b[0m\u001b[0;34m:\u001b[0m\u001b[0;34m,\u001b[0m\u001b[0;36m1\u001b[0m\u001b[0;34m]\u001b[0m\u001b[0;34m\u001b[0m\u001b[0;34m\u001b[0m\u001b[0m\n",
      "\u001b[0;32m~/anaconda3/envs/python3/lib/python3.6/site-packages/numpy/core/fromnumeric.py\u001b[0m in \u001b[0;36mmean\u001b[0;34m(a, axis, dtype, out, keepdims)\u001b[0m\n\u001b[1;32m   2918\u001b[0m \u001b[0;34m\u001b[0m\u001b[0m\n\u001b[1;32m   2919\u001b[0m     return _methods._mean(a, axis=axis, dtype=dtype,\n\u001b[0;32m-> 2920\u001b[0;31m                           out=out, **kwargs)\n\u001b[0m\u001b[1;32m   2921\u001b[0m \u001b[0;34m\u001b[0m\u001b[0m\n\u001b[1;32m   2922\u001b[0m \u001b[0;34m\u001b[0m\u001b[0m\n",
      "\u001b[0;32m~/anaconda3/envs/python3/lib/python3.6/site-packages/numpy/core/_methods.py\u001b[0m in \u001b[0;36m_mean\u001b[0;34m(a, axis, dtype, out, keepdims)\u001b[0m\n\u001b[1;32m     85\u001b[0m             \u001b[0mret\u001b[0m \u001b[0;34m=\u001b[0m \u001b[0mret\u001b[0m\u001b[0;34m.\u001b[0m\u001b[0mdtype\u001b[0m\u001b[0;34m.\u001b[0m\u001b[0mtype\u001b[0m\u001b[0;34m(\u001b[0m\u001b[0mret\u001b[0m \u001b[0;34m/\u001b[0m \u001b[0mrcount\u001b[0m\u001b[0;34m)\u001b[0m\u001b[0;34m\u001b[0m\u001b[0;34m\u001b[0m\u001b[0m\n\u001b[1;32m     86\u001b[0m     \u001b[0;32melse\u001b[0m\u001b[0;34m:\u001b[0m\u001b[0;34m\u001b[0m\u001b[0;34m\u001b[0m\u001b[0m\n\u001b[0;32m---> 87\u001b[0;31m         \u001b[0mret\u001b[0m \u001b[0;34m=\u001b[0m \u001b[0mret\u001b[0m \u001b[0;34m/\u001b[0m \u001b[0mrcount\u001b[0m\u001b[0;34m\u001b[0m\u001b[0;34m\u001b[0m\u001b[0m\n\u001b[0m\u001b[1;32m     88\u001b[0m \u001b[0;34m\u001b[0m\u001b[0m\n\u001b[1;32m     89\u001b[0m     \u001b[0;32mreturn\u001b[0m \u001b[0mret\u001b[0m\u001b[0;34m\u001b[0m\u001b[0;34m\u001b[0m\u001b[0m\n",
      "\u001b[0;31mTypeError\u001b[0m: unsupported operand type(s) for /: 'dict' and 'int'"
     ]
    }
   ],
   "source": []
  },
  {
   "cell_type": "code",
   "execution_count": null,
   "metadata": {},
   "outputs": [],
   "source": [
    "def fit_bspline_to_traj(stroke,n_landmarks): # n_landmarks = ps.ncpt\n",
    "    \n",
    "    neval = length_stk(stk)\n",
    "    s = bspline_gen_s(n_landmarks,n_eval)\n",
    "    return bspline_fit(s,stroke,n_landmarks)\n",
    "    \n",
    "\n",
    "% Generate time points for evaluating spline.\n",
    "%\n",
    "%  The convex-combination of the endpoitns with\n",
    "%  five controls points are 80 percent the last cpt\n",
    "%  and 20 percent the control point after that.\n",
    "%\n",
    "% Input\n",
    "%   nland: number of landmarks\n",
    "%   neval: number of evaluations\n",
    "%\n",
    "% Output\n",
    "%   s: the time points used to evaluate spline\n",
    "function [s,lb,ub] = bspline_gen_s(nland,neval)\n",
    "    if nargin < 2\n",
    "       neval = 200; \n",
    "    end\n",
    "    \n",
    "    lb = 2;\n",
    "    ub = nland+1;\n",
    "    epts = [lb ub];\n",
    "    \n",
    "    len = epts(2)-epts(1);\n",
    "    int = len/(neval-1);\n",
    "    s = epts(1):int:epts(2);    \n",
    "end\n",
    "\n",
    "\n",
    "% Fit a bspline using least-squares\n",
    "% \n",
    "% Input\n",
    "%   sval: time points (N x 1)\n",
    "%   X: data points (N x 2)\n",
    "%   L: number of control points to fit\n",
    "% \n",
    "% Output:\n",
    "%   P: (L x 2) optimal control points\n",
    "function P = bspline_fit(sval,X,L)\n",
    "    sval = sval(:);\n",
    "    ns = length(sval);\n",
    "    assert(isequal(size(X),[ns 2]));\n",
    "   \n",
    "    S = repmat(sval,[1 L]);\n",
    "    I = repmat(0:L-1,[ns 1]);\n",
    "    A = vectorized_bspline_coeff(I,S);\n",
    "    \n",
    "    sumA = sum(A,2);\n",
    "    Cof = A ./ repmat(sumA,[1 L]);\n",
    "    P = (Cof'*Cof)\\Cof'*X;\n",
    "    %P = inv(Cof'*Cof)*Cof'*X;\n",
    "end\n",
    "             \n",
    "\n",
    "\n"
   ]
  }
 ],
 "metadata": {
  "kernelspec": {
   "display_name": "Python 3",
   "language": "python",
   "name": "python3"
  },
  "language_info": {
   "codemirror_mode": {
    "name": "ipython",
    "version": 3
   },
   "file_extension": ".py",
   "mimetype": "text/x-python",
   "name": "python",
   "nbconvert_exporter": "python",
   "pygments_lexer": "ipython3",
   "version": "3.6.7"
  }
 },
 "nbformat": 4,
 "nbformat_minor": 2
}
